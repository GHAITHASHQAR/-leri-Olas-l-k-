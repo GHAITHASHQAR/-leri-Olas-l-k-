{
  "nbformat": 4,
  "nbformat_minor": 0,
  "metadata": {
    "colab": {
      "name": "Pigeonhole Principle",
      "provenance": [],
      "authorship_tag": "ABX9TyNKxfykndRK053ayHNZrhlm",
      "include_colab_link": true
    },
    "kernelspec": {
      "name": "python3",
      "display_name": "Python 3"
    },
    "language_info": {
      "name": "python"
    }
  },
  "cells": [
    {
      "cell_type": "markdown",
      "metadata": {
        "id": "view-in-github",
        "colab_type": "text"
      },
      "source": [
        "<a href=\"https://colab.research.google.com/github/GHAITHASHQAR/-leri-Olas-l-k-/blob/main/Pigeonhole_Principle.ipynb\" target=\"_parent\"><img src=\"https://colab.research.google.com/assets/colab-badge.svg\" alt=\"Open In Colab\"/></a>"
      ]
    },
    {
      "cell_type": "markdown",
      "source": [
        "##Pigeonhole Principle \n",
        "\n",
        "\n",
        "\n",
        "---\n",
        "\n"
      ],
      "metadata": {
        "id": "FmJJ-Q7kR9LG"
      }
    },
    {
      "cell_type": "markdown",
      "source": [
        "##Güvercin Yuvası Problemi\n",
        "---\n",
        "\n"
      ],
      "metadata": {
        "id": "sg_qO8e7UeTu"
      }
    },
    {
      "cell_type": "markdown",
      "source": [
        "The pigeonhole principle is one of the simplest but most useful ideas in mathematics, and can rescue us here. A basic version says that if (N+1) pigeons occupy N holes, then some hole must have at least 2 pigeons. Thus if 5 pigeons occupy 4 holes, then there must be some hole with at least 2 pigeons.\n",
        "\n",
        "\n",
        "\n",
        "---\n",
        "\n",
        "\n",
        "**Bu ilke tam olarak şunu der: N ve k pozitif tamsayılar ve N > k olmak üzere N nesne k kutuya yerleştirildiğinde öyle bir kutu vardır ki o kutuda birden çok nesne bulunmak zorundadır. Bu doğru olmasaydı, yani her kutuda en fazla birer nesne olsaydı, k kutuda en fazla k nesne olabilecekti.**\n",
        "\n",
        "\n",
        "---\n",
        "\n",
        "\n",
        "\n",
        "\n"
      ],
      "metadata": {
        "id": "_hLSM612SHwC"
      }
    },
    {
      "cell_type": "markdown",
      "source": [
        "![68747470733a2f2f757365722d696d616765732e67697468756275736572636f6e74656e742e636f6d2f31303731303938302f35343439343431352d31323165343938302d343865622d313165392d393565392d3333666331396132383866322e706e67.png](data:image/png;base64,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)"
      ],
      "metadata": {
        "id": "pkUXk5hRrApZ"
      }
    },
    {
      "cell_type": "markdown",
      "source": [
        "##Example \n",
        "\n",
        "Let's assume that 8 people are gathered in a room, at least how many people's birthdays will coincide with the same day of the week? \n",
        "\n",
        "answer is 2 people \n",
        "\n",
        "8 people will be allocated 7 days a week. When adapted to the Pigeon's Nest Principle, the number of pigeons with the number of people; 7 days of the week are identified with the number of nests.\n",
        "\n",
        "The number of people is divided by the number of days of the week (i.e. 7 here)Then the found value is rounded up.\n",
        "\n",
        "\n",
        "---\n",
        "##Örnek :\n",
        "\n",
        "\n",
        "**Bir Odada 8 kişi toplandığını düşünelim, en az kaç kişinin doğum günü haftanın aynı güne denk gelecektir ?\n",
        "\n",
        "Cevap : 2 kişidir.\n",
        "\n",
        "Çözüm :\n",
        "\n",
        "8 kişi haftanın 7 gününe ayrılacaktır. Güvercin Yuvası Prensibine uyarlandığında güvercin sayısı kişi sayısı ile; haftanın 7 günü ise yuva sayısı ile özdeleştirilmiştir.\n",
        "\n",
        "Kişi sayısı, haftanın günlerin sayısına (yani burada 7'e) bölünür. Sonra bulunan değer yukarıya yuvarlanır.**\n",
        "\n",
        "\n",
        "\n",
        "---\n",
        "\n",
        "\n",
        "\n",
        "##Mathematical solution of the above example:\n",
        "\n",
        "math.ceil(Pigeon numbers / hole numbers)= math.ceil(People numbers / the number of days in the week)\n",
        "math.ceil(8/7)=2\n",
        "\n",
        "---\n",
        "\n",
        "##Yukarıdaki örneğin matematiksel çözümü :\n",
        "\n",
        "\n",
        "math.ceil(Güvercin sayısı / Yuva sayısı)= math.ceil(Kişi sayısı / Haftanın gün sayısı)\n",
        "math.ceil(8/7)=2\n",
        "\n",
        "\n",
        "---\n",
        "\n",
        "##Python code for the example \n",
        "\n",
        "\n",
        "\n",
        "\n",
        "\n",
        "---\n",
        "\n"
      ],
      "metadata": {
        "id": "9d3EgrEftBM8"
      }
    },
    {
      "cell_type": "code",
      "source": [
        "# libraries\n",
        "import math;\n",
        "\n",
        "# Functions\n",
        "\n",
        "def InputKontrolu(Peoplenum):  #When a letter is entered or a negative number is entered, mathematical \n",
        "#operations are not performed, it gives an error and the user is prompted to log in again.\n",
        "    value = Peoplenum\n",
        "    if not value.isdigit():  # Checking if the entered value is a number\n",
        "        return False\n",
        "    elif (int(value) == 0):\n",
        "        return 3\n",
        "    elif (int(value) < 7) or (int(value) > 500):  # Given range: between 7 and 500 people\n",
        "        return False\n",
        "    else:\n",
        "        return True\n",
        "\n",
        "\n",
        "# Main Function\n",
        "\n",
        "while True:\n",
        "    print(\"Please enter a number between 7 and 500, Press 0 to stop the program!!\")\n",
        "    people_number = input(\"How many people are in the room in total?? \")\n",
        "\n",
        "    if InputKontrolu(\n",
        "            people_number) == True:  # If the number entered by the user is within the criteria: The Pigeon's Nest Principle is Applied and the number of people gathered in the room is divided by 7 days of the week\n",
        "        result = (math.ceil(int(people_number) / 7.0))  # 7.0 value belongs to days of the week\n",
        "        print(\"At least %d people in this group will have their birthdays on the same day of the week!!\" %result)\n",
        "    elif InputKontrolu(people_number) == 3:\n",
        "        print(\"Program Stopped !!\")\n",
        "        break;\n",
        "    else:\n",
        "        print(\"\\nPlease enter a number in the desired range!!\")\n",
        "    print(\"\\n\")\n",
        "\n",
        "    \n",
        "    "
      ],
      "metadata": {
        "colab": {
          "base_uri": "https://localhost:8080/",
          "height": 1000
        },
        "id": "jtfBsYABzhgX",
        "outputId": "67982ce0-a5ca-45f4-e1ef-5a812b8e6f17"
      },
      "execution_count": null,
      "outputs": [
        {
          "output_type": "stream",
          "name": "stdout",
          "text": [
            "Please enter a number between 7 and 500, Press 0 to stop the program!!\n",
            "How many people are in the room in total?? 2\n",
            "\n",
            "Please enter a number in the desired range!!\n",
            "\n",
            "\n",
            "Please enter a number between 7 and 500, Press 0 to stop the program!!\n",
            "How many people are in the room in total?? 17\n",
            "At least 3 people in this group will have their birthdays on the same day of the week!!\n",
            "\n",
            "\n",
            "Please enter a number between 7 and 500, Press 0 to stop the program!!\n",
            "How many people are in the room in total?? 8\n",
            "At least 2 people in this group will have their birthdays on the same day of the week!!\n",
            "\n",
            "\n",
            "Please enter a number between 7 and 500, Press 0 to stop the program!!\n",
            "How many people are in the room in total?? 2\n",
            "\n",
            "Please enter a number in the desired range!!\n",
            "\n",
            "\n",
            "Please enter a number between 7 and 500, Press 0 to stop the program!!\n",
            "How many people are in the room in total?? 9\n",
            "At least 2 people in this group will have their birthdays on the same day of the week!!\n",
            "\n",
            "\n",
            "Please enter a number between 7 and 500, Press 0 to stop the program!!\n",
            "How many people are in the room in total?? 8\n",
            "At least 2 people in this group will have their birthdays on the same day of the week!!\n",
            "\n",
            "\n",
            "Please enter a number between 7 and 500, Press 0 to stop the program!!\n"
          ]
        },
        {
          "output_type": "error",
          "ename": "KeyboardInterrupt",
          "evalue": "ignored",
          "traceback": [
            "\u001b[0;31m---------------------------------------------------------------------------\u001b[0m",
            "\u001b[0;31mKeyboardInterrupt\u001b[0m                         Traceback (most recent call last)",
            "\u001b[0;32m/usr/local/lib/python3.7/dist-packages/ipykernel/kernelbase.py\u001b[0m in \u001b[0;36m_input_request\u001b[0;34m(self, prompt, ident, parent, password)\u001b[0m\n\u001b[1;32m    728\u001b[0m             \u001b[0;32mtry\u001b[0m\u001b[0;34m:\u001b[0m\u001b[0;34m\u001b[0m\u001b[0;34m\u001b[0m\u001b[0m\n\u001b[0;32m--> 729\u001b[0;31m                 \u001b[0mident\u001b[0m\u001b[0;34m,\u001b[0m \u001b[0mreply\u001b[0m \u001b[0;34m=\u001b[0m \u001b[0mself\u001b[0m\u001b[0;34m.\u001b[0m\u001b[0msession\u001b[0m\u001b[0;34m.\u001b[0m\u001b[0mrecv\u001b[0m\u001b[0;34m(\u001b[0m\u001b[0mself\u001b[0m\u001b[0;34m.\u001b[0m\u001b[0mstdin_socket\u001b[0m\u001b[0;34m,\u001b[0m \u001b[0;36m0\u001b[0m\u001b[0;34m)\u001b[0m\u001b[0;34m\u001b[0m\u001b[0;34m\u001b[0m\u001b[0m\n\u001b[0m\u001b[1;32m    730\u001b[0m             \u001b[0;32mexcept\u001b[0m \u001b[0mException\u001b[0m\u001b[0;34m:\u001b[0m\u001b[0;34m\u001b[0m\u001b[0;34m\u001b[0m\u001b[0m\n",
            "\u001b[0;32m/usr/local/lib/python3.7/dist-packages/jupyter_client/session.py\u001b[0m in \u001b[0;36mrecv\u001b[0;34m(self, socket, mode, content, copy)\u001b[0m\n\u001b[1;32m    802\u001b[0m         \u001b[0;32mtry\u001b[0m\u001b[0;34m:\u001b[0m\u001b[0;34m\u001b[0m\u001b[0;34m\u001b[0m\u001b[0m\n\u001b[0;32m--> 803\u001b[0;31m             \u001b[0mmsg_list\u001b[0m \u001b[0;34m=\u001b[0m \u001b[0msocket\u001b[0m\u001b[0;34m.\u001b[0m\u001b[0mrecv_multipart\u001b[0m\u001b[0;34m(\u001b[0m\u001b[0mmode\u001b[0m\u001b[0;34m,\u001b[0m \u001b[0mcopy\u001b[0m\u001b[0;34m=\u001b[0m\u001b[0mcopy\u001b[0m\u001b[0;34m)\u001b[0m\u001b[0;34m\u001b[0m\u001b[0;34m\u001b[0m\u001b[0m\n\u001b[0m\u001b[1;32m    804\u001b[0m         \u001b[0;32mexcept\u001b[0m \u001b[0mzmq\u001b[0m\u001b[0;34m.\u001b[0m\u001b[0mZMQError\u001b[0m \u001b[0;32mas\u001b[0m \u001b[0me\u001b[0m\u001b[0;34m:\u001b[0m\u001b[0;34m\u001b[0m\u001b[0;34m\u001b[0m\u001b[0m\n",
            "\u001b[0;32m/usr/local/lib/python3.7/dist-packages/zmq/sugar/socket.py\u001b[0m in \u001b[0;36mrecv_multipart\u001b[0;34m(self, flags, copy, track)\u001b[0m\n\u001b[1;32m    624\u001b[0m         \"\"\"\n\u001b[0;32m--> 625\u001b[0;31m         \u001b[0mparts\u001b[0m \u001b[0;34m=\u001b[0m \u001b[0;34m[\u001b[0m\u001b[0mself\u001b[0m\u001b[0;34m.\u001b[0m\u001b[0mrecv\u001b[0m\u001b[0;34m(\u001b[0m\u001b[0mflags\u001b[0m\u001b[0;34m,\u001b[0m \u001b[0mcopy\u001b[0m\u001b[0;34m=\u001b[0m\u001b[0mcopy\u001b[0m\u001b[0;34m,\u001b[0m \u001b[0mtrack\u001b[0m\u001b[0;34m=\u001b[0m\u001b[0mtrack\u001b[0m\u001b[0;34m)\u001b[0m\u001b[0;34m]\u001b[0m\u001b[0;34m\u001b[0m\u001b[0;34m\u001b[0m\u001b[0m\n\u001b[0m\u001b[1;32m    626\u001b[0m         \u001b[0;31m# have first part already, only loop while more to receive\u001b[0m\u001b[0;34m\u001b[0m\u001b[0;34m\u001b[0m\u001b[0;34m\u001b[0m\u001b[0m\n",
            "\u001b[0;32mzmq/backend/cython/socket.pyx\u001b[0m in \u001b[0;36mzmq.backend.cython.socket.Socket.recv\u001b[0;34m()\u001b[0m\n",
            "\u001b[0;32mzmq/backend/cython/socket.pyx\u001b[0m in \u001b[0;36mzmq.backend.cython.socket.Socket.recv\u001b[0;34m()\u001b[0m\n",
            "\u001b[0;32mzmq/backend/cython/socket.pyx\u001b[0m in \u001b[0;36mzmq.backend.cython.socket._recv_copy\u001b[0;34m()\u001b[0m\n",
            "\u001b[0;32m/usr/local/lib/python3.7/dist-packages/zmq/backend/cython/checkrc.pxd\u001b[0m in \u001b[0;36mzmq.backend.cython.checkrc._check_rc\u001b[0;34m()\u001b[0m\n",
            "\u001b[0;31mKeyboardInterrupt\u001b[0m: ",
            "\nDuring handling of the above exception, another exception occurred:\n",
            "\u001b[0;31mKeyboardInterrupt\u001b[0m                         Traceback (most recent call last)",
            "\u001b[0;32m<ipython-input-1-dbe5a0bfbdc3>\u001b[0m in \u001b[0;36m<module>\u001b[0;34m()\u001b[0m\n\u001b[1;32m     21\u001b[0m \u001b[0;32mwhile\u001b[0m \u001b[0;32mTrue\u001b[0m\u001b[0;34m:\u001b[0m\u001b[0;34m\u001b[0m\u001b[0;34m\u001b[0m\u001b[0m\n\u001b[1;32m     22\u001b[0m     \u001b[0mprint\u001b[0m\u001b[0;34m(\u001b[0m\u001b[0;34m\"Please enter a number between 7 and 500, Press 0 to stop the program!!\"\u001b[0m\u001b[0;34m)\u001b[0m\u001b[0;34m\u001b[0m\u001b[0;34m\u001b[0m\u001b[0m\n\u001b[0;32m---> 23\u001b[0;31m     \u001b[0mpeople_number\u001b[0m \u001b[0;34m=\u001b[0m \u001b[0minput\u001b[0m\u001b[0;34m(\u001b[0m\u001b[0;34m\"How many people are in the room in total?? \"\u001b[0m\u001b[0;34m)\u001b[0m\u001b[0;34m\u001b[0m\u001b[0;34m\u001b[0m\u001b[0m\n\u001b[0m\u001b[1;32m     24\u001b[0m \u001b[0;34m\u001b[0m\u001b[0m\n\u001b[1;32m     25\u001b[0m     if InputKontrolu(\n",
            "\u001b[0;32m/usr/local/lib/python3.7/dist-packages/ipykernel/kernelbase.py\u001b[0m in \u001b[0;36mraw_input\u001b[0;34m(self, prompt)\u001b[0m\n\u001b[1;32m    702\u001b[0m             \u001b[0mself\u001b[0m\u001b[0;34m.\u001b[0m\u001b[0m_parent_ident\u001b[0m\u001b[0;34m,\u001b[0m\u001b[0;34m\u001b[0m\u001b[0;34m\u001b[0m\u001b[0m\n\u001b[1;32m    703\u001b[0m             \u001b[0mself\u001b[0m\u001b[0;34m.\u001b[0m\u001b[0m_parent_header\u001b[0m\u001b[0;34m,\u001b[0m\u001b[0;34m\u001b[0m\u001b[0;34m\u001b[0m\u001b[0m\n\u001b[0;32m--> 704\u001b[0;31m             \u001b[0mpassword\u001b[0m\u001b[0;34m=\u001b[0m\u001b[0;32mFalse\u001b[0m\u001b[0;34m,\u001b[0m\u001b[0;34m\u001b[0m\u001b[0;34m\u001b[0m\u001b[0m\n\u001b[0m\u001b[1;32m    705\u001b[0m         )\n\u001b[1;32m    706\u001b[0m \u001b[0;34m\u001b[0m\u001b[0m\n",
            "\u001b[0;32m/usr/local/lib/python3.7/dist-packages/ipykernel/kernelbase.py\u001b[0m in \u001b[0;36m_input_request\u001b[0;34m(self, prompt, ident, parent, password)\u001b[0m\n\u001b[1;32m    732\u001b[0m             \u001b[0;32mexcept\u001b[0m \u001b[0mKeyboardInterrupt\u001b[0m\u001b[0;34m:\u001b[0m\u001b[0;34m\u001b[0m\u001b[0;34m\u001b[0m\u001b[0m\n\u001b[1;32m    733\u001b[0m                 \u001b[0;31m# re-raise KeyboardInterrupt, to truncate traceback\u001b[0m\u001b[0;34m\u001b[0m\u001b[0;34m\u001b[0m\u001b[0;34m\u001b[0m\u001b[0m\n\u001b[0;32m--> 734\u001b[0;31m                 \u001b[0;32mraise\u001b[0m \u001b[0mKeyboardInterrupt\u001b[0m\u001b[0;34m\u001b[0m\u001b[0;34m\u001b[0m\u001b[0m\n\u001b[0m\u001b[1;32m    735\u001b[0m             \u001b[0;32melse\u001b[0m\u001b[0;34m:\u001b[0m\u001b[0;34m\u001b[0m\u001b[0;34m\u001b[0m\u001b[0m\n\u001b[1;32m    736\u001b[0m                 \u001b[0;32mbreak\u001b[0m\u001b[0;34m\u001b[0m\u001b[0;34m\u001b[0m\u001b[0m\n",
            "\u001b[0;31mKeyboardInterrupt\u001b[0m: "
          ]
        }
      ]
    },
    {
      "cell_type": "markdown",
      "source": [
        ""
      ],
      "metadata": {
        "id": "T7UCMSKd1Rqq"
      }
    },
    {
      "cell_type": "markdown",
      "source": [
        "##Example 2 :\n"
      ],
      "metadata": {
        "id": "N_fNY8YQT1eq"
      }
    },
    {
      "cell_type": "markdown",
      "source": [
        "prove that if you choose 101 numbers from the set {1,2,3,4,…,200}, there are always two numbers such that one divides the other with no remainder. The proof should involve the \"pigeonhole principle\".\n",
        "\n",
        "1 ile 200 arasında 101 tane sayı seçilmiş olsun. Bu sayılar arasında muhakkak öyle iki sayı vardır ki biri diğerini tam böler. Bunun ıspatının güvercin yucası prensibi ile yapılması\n",
        "\n"
      ],
      "metadata": {
        "id": "-Sl9SMXqT4FC"
      }
    },
    {
      "cell_type": "markdown",
      "source": [
        "##The solution\n",
        "Any integer ; where n is an integer and a is an odd integer. It can be written in the form 2𝑛.𝑎 \n",
        "\n",
        "In the range of 1 to 200, the number a can be one of the numbers 1, 3, 5,…, 199. When 101 numbers are selected in the given range, the a factors of the two numbers in this set will be exactly the same. So these two numbers will be exactly divisible by each other.\n",
        "\n",
        "First of all, 101 random numbers between 1 and 200 were generated as requested in the problem and transferred to an array. The source python codes that do this are as follows.\n",
        "\n",
        "Herhangi bir tam sayı; n tam sayı, a tek tam sayı olmak üzere 2𝑛. 𝑎 formunda yazılabilir.\n",
        "\n",
        "1 ile 200 aralığında a sayısı 1, 3, 5,…, 199 sayılarından biri olabilir. Verilen aralıkta 101 sayı seçilince bu kümedeki iki sayının a çarpanları kesinlikle aynı olacaktır. Böylece bu iki sayı birbirine tam bölünecektir.\n",
        "\n",
        "Öncelikle problemde istenildiği gibi 1 ile 200 arasında 101 tane rasgele sayı üretilip bir diziye aktarıldı. Bu işlemi yapan kaynak python kodları aşağıdaki gibidir."
      ],
      "metadata": {
        "id": "O22BWYHsUg92"
      }
    },
    {
      "cell_type": "code",
      "execution_count": 1,
      "metadata": {
        "id": "97OdiWA2O08w",
        "colab": {
          "base_uri": "https://localhost:8080/"
        },
        "outputId": "8579609e-b56a-42b3-a12d-65a0d510bc73"
      },
      "outputs": [
        {
          "output_type": "stream",
          "name": "stdout",
          "text": [
            "[52, 137, 92, 199, 154, 111, 103, 117, 94, 105, 166, 190, 134, 83, 95, 52, 168, 1, 196, 114, 89, 181, 176, 13, 169, 63, 116, 112, 95, 98, 198, 53, 66, 115, 126, 30, 72, 26, 60, 141, 71, 99, 106, 122, 173, 19, 120, 151, 17, 128, 67, 87, 72, 173, 125, 50, 1, 28, 184, 73, 61, 159, 43, 21, 147, 117, 199, 94, 10, 29, 94, 5, 113, 164, 27, 61, 42, 16, 131, 142, 47, 71, 136, 34, 15, 180, 154, 124, 185, 161, 7, 175, 95, 55, 28, 76, 47, 4, 117, 98, 68]\n"
          ]
        }
      ],
      "source": [
        "import numpy as np \n",
        "\n",
        "import random\n",
        "numbers = list(range(101))\n",
        "#numbers=[2,3,11,5,14]\n",
        "for i in range(101):\n",
        "    numbers[i]=random.randint(1, 200)\n",
        "print(numbers)\n"
      ]
    },
    {
      "cell_type": "markdown",
      "source": [
        "The number array created after the codes were run as above.\n",
        "\n",
        "All generated numbers were compared with each other with two nested loops.While doing this opreation to compare The first number is 2𝑛. 𝑎 and the other number is 2k. converted to form b.After this process, the numbers a and b are checked and if they are equal, the number of divisors is increased by one, since these two numbers divide each other exactly.However, when only the numbers a and b are looked at during the loop, the first number must be greater than the second number, since the number of divisors will be increased by two for the numbers that divide each other.\n",
        "\n",
        "Kodlar çalıştırıldıktan sonra oluşturulan sayı dizisi yukarıdaki gibi oldu.\n",
        "\n",
        "Üretilen bütün sayılar içi içe iki döngüyle birbileriyle karşılaştırılmıştır. Bu işlem yapılırken karşılaştırılacak birinci sayı 2𝑛. 𝑎 ve diğer sayı da 2k. b formuna dönüştürülmüştür. Bu işlemden sonra a ve b sayıları kontrol edilmiş ve eşit olması durumunda bu iki sayının birbirini tam böldüğü için bölen sayısı bir arttırılmışltır. Fakat döngü sırasında sadece a ve b sayılarına bakıldığında birbirini bölen sayılar için bölen sayısı iki arttırılacağı için birinci sayının ikinci sayıdan büyük olma şartı da eklenmiştir."
      ],
      "metadata": {
        "id": "1t34UW9BWSmp"
      }
    },
    {
      "cell_type": "markdown",
      "source": [
        ""
      ],
      "metadata": {
        "id": "T9rIdbFqRXvS"
      }
    },
    {
      "cell_type": "code",
      "source": [
        "divide_num1=0\n",
        "a=0\n",
        "b=0\n",
        "n=0\n",
        "k=0\n",
        "for i in range(101):\n",
        "    a=numbers[i]\n",
        "    while a%2==0:\n",
        "        n+=1\n",
        "        a/=2\n",
        "    for j in range(101):\n",
        "        if i!=j:\n",
        "            b=numbers[j]\n",
        "            while b%2==0:\n",
        "                k+=1\n",
        "                b/=2\n",
        "            if numbers[i]>numbers[j] and a==b:\n",
        "                divide_num1+=1\n",
        "print (\"In this array of numbers, at least \",divide_num1,\" numbers divide each other \")\n"
      ],
      "metadata": {
        "colab": {
          "base_uri": "https://localhost:8080/"
        },
        "id": "U9OxrCNNOOMJ",
        "outputId": "86ecede6-5686-4a19-a84c-71551e9cc98e"
      },
      "execution_count": 2,
      "outputs": [
        {
          "output_type": "stream",
          "name": "stdout",
          "text": [
            "In this array of numbers, at least  58  numbers divide each other \n"
          ]
        }
      ]
    },
    {
      "cell_type": "markdown",
      "source": [
        "Bu sayı dizisinde en az  54  sayı birbirini tam bölmektedir\n",
        "Yukarıdaki işlemlerde sadece a ve b sayıları kriter alınarak bölen sayısı aratılmıştır. Fakat 1'e, 2'ye bölünen sayılarda a ve b sayıları eşit çıkmamaktadır. Örneğin 14 ve 2 sayıları ele alındığında 14 sayısı 21. 7 olarak, ve 2 sayısı da 21. 1 olarak yazılabilir. Burada a ve b'yi temsil eden 7 ve 1 rakamları eşit değil fakat 2 sayısı 14 sayısını tam böler. Bu yüzden yukarıdaki kodlar 1 ile 200 arasında 101 saylardan muhakkak öyle iki sayı vardır ki biri diğerini tam böler ifadesinin ıspatını yapar fakat birbirini tam bölen sayı adedini doğru olarak göstermez.\n",
        "\n",
        "Bunun için dizideki herbir değerin, geriye kalan diğerleriyle kalansız bölüp bölünmediği mod işlemiyle gerçekleştirildi. mod değeri 0 olduğunda bolen_sayisi2 değişkeni 1 arttırıldı.\n",
        "\n",
        "Bir sayı kendini de kalansız bölüneceği için döngülerdeki i ve j değerleri eşit olmadığı sürece bu işlem gerçekleştirildi. Bu işlemler aşagıdaki gibi yapıldı."
      ],
      "metadata": {
        "id": "JZUEXI-_4rBo"
      }
    },
    {
      "cell_type": "code",
      "source": [
        "#Birbirini tam bölen sayı adedini tam olarak bulur.\n",
        "divide_num2=0\n",
        "for i in range(101):\n",
        "    for j in range(101):\n",
        "        if i!=j:\n",
        "            if numbers[i] % numbers[j]==0:\n",
        "                divide_num2+=1"
      ],
      "metadata": {
        "id": "DcRin5Gw4u6R"
      },
      "execution_count": 4,
      "outputs": []
    },
    {
      "cell_type": "markdown",
      "source": [
        "En sonunda birbirini kalansız bölen sayı çifti adedi sayısı bulunup ekrana yazdırıldı.\n",
        "\n"
      ],
      "metadata": {
        "id": "donyVfU85EEo"
      }
    },
    {
      "cell_type": "code",
      "source": [
        "print(\"In This array Of Numbers\" ,  divide_num2, \"pairs of numbers divide each other without a remainder.\")\n"
      ],
      "metadata": {
        "colab": {
          "base_uri": "https://localhost:8080/"
        },
        "id": "Nup0YC-H5FIA",
        "outputId": "46eba3bf-6582-4325-eddc-6760e67317a1"
      },
      "execution_count": 5,
      "outputs": [
        {
          "output_type": "stream",
          "name": "stdout",
          "text": [
            "In This array Of Numbers 376 pairs of numbers divide each other without a remainder.\n"
          ]
        }
      ]
    }
  ]
}