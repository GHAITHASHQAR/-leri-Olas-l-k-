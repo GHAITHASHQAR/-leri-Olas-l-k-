{
  "nbformat": 4,
  "nbformat_minor": 0,
  "metadata": {
    "colab": {
      "name": "Combination",
      "provenance": [],
      "authorship_tag": "ABX9TyO3PISxwcP0EsWRPwHWyuLv",
      "include_colab_link": true
    },
    "kernelspec": {
      "name": "python3",
      "display_name": "Python 3"
    },
    "language_info": {
      "name": "python"
    }
  },
  "cells": [
    {
      "cell_type": "markdown",
      "metadata": {
        "id": "view-in-github",
        "colab_type": "text"
      },
      "source": [
        "<a href=\"https://colab.research.google.com/github/GHAITHASHQAR/-leri-Olas-l-k-/blob/main/Combination.ipynb\" target=\"_parent\"><img src=\"https://colab.research.google.com/assets/colab-badge.svg\" alt=\"Open In Colab\"/></a>"
      ]
    },
    {
      "cell_type": "markdown",
      "source": [
        "##Combination\n",
        "\n",
        "A combination is a mathematical technique that determines the number of possible arrangements in a collection of items where the order of the selection does not matter\n",
        "\n"
      ],
      "metadata": {
        "id": "bTcPYTRM9oa3"
      }
    },
    {
      "cell_type": "markdown",
      "source": [
        "![68747470733a2f2f757365722d696d616765732e67697468756275736572636f6e74656e742e636f6d2f31303731303938302f35343832393839342d37353766663130302d346363382d313165392d386231352d6231643434636334623063652e6a7067.jpeg](data:image/jpeg;base64,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)"
      ],
      "metadata": {
        "id": "Op9VO8mA-oZS"
      }
    },
    {
      "cell_type": "markdown",
      "source": [
        "##Kombinasyon\n",
        "\n",
        "Kombinasyon, bir nesne grubu içerisinden sıra gözetmeksizin yapılan seçimlerdir. Nesne grubunun tekabül ettiği kümenin alt kümeleri olarak da tanımlanabilir. Çünkü alt kümelerde sıra önemli değildir"
      ],
      "metadata": {
        "id": "t2GJ9YpM-qvx"
      }
    },
    {
      "cell_type": "markdown",
      "source": [
        "##Example \n",
        "\n",
        "In how many different ways can the number of shirts that the user enter among the total number of shirts to be entered by the user be selected?\n",
        "\n",
        "Result=(Total Number of Shirts)!/(Total Number of Shirts - Number of Shirts to be Selected)! * (Number of Shirts to be Selected)! Calculation was made using the formula.\n"
      ],
      "metadata": {
        "id": "GrDHrCI1-2-J"
      }
    },
    {
      "cell_type": "markdown",
      "source": [
        "In this example the element order is not important to us, so this example solved by combination formula."
      ],
      "metadata": {
        "id": "9SGx6VK2ao7U"
      }
    },
    {
      "cell_type": "code",
      "source": [
        "def Calculatefactorial(i):\n",
        "    \n",
        "    if i==1:       \n",
        "        return 1\n",
        "    \n",
        "    else: \n",
        "        return i * Calculatefactorial(i-1)\n",
        "    \n",
        "def combination_Calculate(j,k):\n",
        "    \n",
        "    if (j<k):\n",
        "        print(\"The 1st number must be greater than or equal to the 2nd number. The numbers you gave have no solution!\")\n",
        "   \n",
        "    elif(j==k):\n",
        "        print(\"1\")\n",
        "    \n",
        "    elif(j>k):        \n",
        "        s=1\n",
        "        s= Calculatefactorial(j) #n factorial        \n",
        "        l=1\n",
        "        l= Calculatefactorial(k) #m factorial       \n",
        "        f=1\n",
        "        f= Calculatefactorial(j-k) #n-m factorial      \n",
        "        w=s/(l*f)\n",
        "        return w\n",
        "      \n",
        "print(\"Enter a number for shirt selection\")   \n",
        " \n",
        "Total_number = int(input(\"Enter the Total Number of Shirts: \"))\n",
        " \n",
        "selected_number = int(input(\"Enter the Number of Shirts to be Selected: \")) \n",
        " \n",
        "print(\"\\nSonuç:\",int(combination_Calculate(Total_number,selected_number)), \"can be chosen differently.\" )"
      ],
      "metadata": {
        "colab": {
          "base_uri": "https://localhost:8080/"
        },
        "id": "Db2_KVLCa6K-",
        "outputId": "f5fc97ab-81e6-4fd1-d602-6764ce138a29"
      },
      "execution_count": 3,
      "outputs": [
        {
          "output_type": "stream",
          "name": "stdout",
          "text": [
            "Enter a number for shirt selection\n",
            "Enter the Total Number of Shirts: 6\n",
            "Enter the Number of Shirts to be Selected: 2\n",
            "\n",
            "Sonuç: 15 can be chosen differently.\n"
          ]
        }
      ]
    }
  ]
}