{
  "nbformat": 4,
  "nbformat_minor": 0,
  "metadata": {
    "colab": {
      "name": "Basic Probability1.ipynb",
      "provenance": [],
      "toc_visible": true,
      "include_colab_link": true
    },
    "kernelspec": {
      "name": "python3",
      "display_name": "Python 3"
    }
  },
  "cells": [
    {
      "cell_type": "markdown",
      "metadata": {
        "id": "view-in-github",
        "colab_type": "text"
      },
      "source": [
        "<a href=\"https://colab.research.google.com/github/GHAITHASHQAR/-leri-Olas-l-k-/blob/main/Basic_Probability1.ipynb\" target=\"_parent\"><img src=\"https://colab.research.google.com/assets/colab-badge.svg\" alt=\"Open In Colab\"/></a>"
      ]
    },
    {
      "cell_type": "markdown",
      "metadata": {
        "id": "f7JVC1wS_hUf"
      },
      "source": [
        "# Karşılaşma Problemi\n",
        "\n",
        "### **Problem** : Bir spor salonuna günde 500 kişi spor yapmak için geliyor. Gelen kişilerin %40'ı kilo vermek istiyor. Sabah saatlerinde (10:00-12:00 saatleri arasında) kulübe 25 kişi geliyor. \n",
        "### Sabah saatlerinde kulübe gelen kişilerden kilo vermek isteyen bir kişiyle karşılaşma olasılığımız nedir?"
      ]
    },
    {
      "cell_type": "markdown",
      "metadata": {
        "id": "9VtUlE3j_662"
      },
      "source": [
        "**p (Toplam Kişi)** = 500\n",
        "\n",
        "**s (Sabah saatlerinde gelen kişi sayısı)** = 25\n",
        "\n",
        "**f (Kilo Vermek İsteyen Kişi Sayısı)** = 500 * 40 / 100 = 200\n",
        "\n",
        "*Her kişi ile karşılaşma eşit şanslı olay olursa:*\n",
        "\n",
        "1 değerinden istenmeyen durumların gerçekleşme olasılığını çıkarırsak sonuca ulaşabiliriz.\n",
        "\n",
        "**P (kilo vermek isteyen kişi sayısı)** = 1 - C (p-f,s) / C (p,s)"
      ]
    },
    {
      "cell_type": "code",
      "metadata": {
        "id": "EsRgSOpgIFbW"
      },
      "source": [
        "def faktoriyel(sayi):\n",
        "  sonuc=1\n",
        "  for i in range(1,sayi+1):\n",
        "    sonuc=sonuc*i\n",
        "  return sonuc\n",
        "  \n",
        "def kombinasyon(n,r):\n",
        "  return faktoriyel(n)/(faktoriyel(n-r)*faktoriyel(r))"
      ],
      "execution_count": null,
      "outputs": []
    },
    {
      "cell_type": "code",
      "metadata": {
        "id": "YpMm68x3I1Cj",
        "outputId": "11748710-1f07-4c22-9547-4b4e117a0197",
        "colab": {
          "base_uri": "https://localhost:8080/"
        }
      },
      "source": [
        "p=500\n",
        "s=25\n",
        "f=int(p*0.4)\n",
        "\n",
        "\n",
        "k=p-f\n",
        "\n",
        "P=1-kombinasyon(k,s)/kombinasyon(p,s)\n",
        "print(P)"
      ],
      "execution_count": null,
      "outputs": [
        {
          "output_type": "stream",
          "name": "stdout",
          "text": [
            "0.9999981289002444\n"
          ]
        }
      ]
    },
    {
      "cell_type": "markdown",
      "metadata": {
        "id": "9YxOasNnMKYQ"
      },
      "source": [
        "**Sonuç:** Sabah saatlerinde spor kulübüne gelen kişilerden kilo vermek isteyen bir kişiyle karşılaşma olasılığımız **0.9999981289002444** olarak bulunur."
      ]
    }
  ]
}